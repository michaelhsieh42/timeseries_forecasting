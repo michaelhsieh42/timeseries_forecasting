{
 "cells": [
  {
   "cell_type": "markdown",
   "metadata": {},
   "source": [
    "# LSTM NN in predicting air pollution. Modeling a forecasting problem to a supervised learning problem.\n",
    "\n",
    "ref: https://machinelearningmastery.com/multivariate-time-series-forecasting-lstms-keras/"
   ]
  },
  {
   "cell_type": "code",
   "execution_count": 1,
   "metadata": {},
   "outputs": [
    {
     "name": "stderr",
     "output_type": "stream",
     "text": [
      "C:\\Users\\michaelhsieh\\AppData\\Local\\conda\\conda\\envs\\DeepLearning\\lib\\site-packages\\statsmodels\\compat\\pandas.py:56: FutureWarning: The pandas.core.datetools module is deprecated and will be removed in a future version. Please use the pandas.tseries module instead.\n",
      "  from pandas.core import datetools\n",
      "C:\\Users\\michaelhsieh\\AppData\\Local\\conda\\conda\\envs\\DeepLearning\\lib\\site-packages\\h5py\\__init__.py:36: FutureWarning: Conversion of the second argument of issubdtype from `float` to `np.floating` is deprecated. In future, it will be treated as `np.float64 == np.dtype(float).type`.\n",
      "  from ._conv import register_converters as _register_converters\n",
      "Using TensorFlow backend.\n"
     ]
    }
   ],
   "source": [
    "%matplotlib inline\n",
    "import pandas as pd\n",
    "import sys, os\n",
    "import matplotlib.pyplot as plt\n",
    "import numpy as np\n",
    "import statsmodels.tsa.stattools as tsa\n",
    "import statsmodels.tsa.seasonal as seasonal\n",
    "import keras\n",
    "import tensorflow as tf\n",
    "from datetime import datetime"
   ]
  },
  {
   "cell_type": "markdown",
   "metadata": {},
   "source": [
    "Dataset available at https://archive.ics.uci.edu/ml/datasets/Beijing+PM2.5+Data"
   ]
  },
  {
   "cell_type": "code",
   "execution_count": 3,
   "metadata": {},
   "outputs": [
    {
     "name": "stdout",
     "output_type": "stream",
     "text": [
      "                     pollution  dew  temp   press wnd_dir  wnd_spd  snow  rain\n",
      "date                                                                          \n",
      "2010-01-02 00:00:00      129.0  -16  -4.0  1020.0      SE     1.79     0     0\n",
      "2010-01-02 01:00:00      148.0  -15  -4.0  1020.0      SE     2.68     0     0\n",
      "2010-01-02 02:00:00      159.0  -11  -5.0  1021.0      SE     3.57     0     0\n",
      "2010-01-02 03:00:00      181.0   -7  -5.0  1022.0      SE     5.36     1     0\n",
      "2010-01-02 04:00:00      138.0   -7  -5.0  1022.0      SE     6.25     2     0\n"
     ]
    }
   ],
   "source": [
    "# load data\n",
    "def parse(x):\n",
    "    return datetime.strptime(x, '%Y %m %d %H')\n",
    "dataset = pd.read_csv('../Data/raw.csv',  parse_dates = [['year', 'month', 'day', 'hour']], \n",
    "                      index_col=0, date_parser=parse)\n",
    "dataset.drop('No', axis=1, inplace=True)\n",
    "# manually specify column names\n",
    "dataset.columns = ['pollution', 'dew', 'temp', 'press', 'wnd_dir', 'wnd_spd', 'snow', 'rain']\n",
    "dataset.index.name = 'date'\n",
    "# mark all NA values with 0\n",
    "dataset['pollution'].fillna(0, inplace=True)\n",
    "# drop the first 24 hours\n",
    "dataset = dataset[24:]\n",
    "# summarize first 5 rows\n",
    "print(dataset.head(5))\n",
    "# save to file\n",
    "dataset.to_csv('../Data/pollution.csv')"
   ]
  },
  {
   "cell_type": "code",
   "execution_count": 2,
   "metadata": {
    "collapsed": true
   },
   "outputs": [],
   "source": [
    "dataset=pd.read_csv('../Data/pollution.csv', \n",
    "                    index_col=0)"
   ]
  },
  {
   "cell_type": "code",
   "execution_count": 3,
   "metadata": {},
   "outputs": [
    {
     "data": {
      "text/html": [
       "<div>\n",
       "<style scoped>\n",
       "    .dataframe tbody tr th:only-of-type {\n",
       "        vertical-align: middle;\n",
       "    }\n",
       "\n",
       "    .dataframe tbody tr th {\n",
       "        vertical-align: top;\n",
       "    }\n",
       "\n",
       "    .dataframe thead th {\n",
       "        text-align: right;\n",
       "    }\n",
       "</style>\n",
       "<table border=\"1\" class=\"dataframe\">\n",
       "  <thead>\n",
       "    <tr style=\"text-align: right;\">\n",
       "      <th></th>\n",
       "      <th>pollution</th>\n",
       "      <th>dew</th>\n",
       "      <th>temp</th>\n",
       "      <th>press</th>\n",
       "      <th>wnd_dir</th>\n",
       "      <th>wnd_spd</th>\n",
       "      <th>snow</th>\n",
       "      <th>rain</th>\n",
       "    </tr>\n",
       "    <tr>\n",
       "      <th>date</th>\n",
       "      <th></th>\n",
       "      <th></th>\n",
       "      <th></th>\n",
       "      <th></th>\n",
       "      <th></th>\n",
       "      <th></th>\n",
       "      <th></th>\n",
       "      <th></th>\n",
       "    </tr>\n",
       "  </thead>\n",
       "  <tbody>\n",
       "    <tr>\n",
       "      <th>2010-01-02 00:00:00</th>\n",
       "      <td>129.0</td>\n",
       "      <td>-16</td>\n",
       "      <td>-4.0</td>\n",
       "      <td>1020.0</td>\n",
       "      <td>SE</td>\n",
       "      <td>1.79</td>\n",
       "      <td>0</td>\n",
       "      <td>0</td>\n",
       "    </tr>\n",
       "    <tr>\n",
       "      <th>2010-01-02 01:00:00</th>\n",
       "      <td>148.0</td>\n",
       "      <td>-15</td>\n",
       "      <td>-4.0</td>\n",
       "      <td>1020.0</td>\n",
       "      <td>SE</td>\n",
       "      <td>2.68</td>\n",
       "      <td>0</td>\n",
       "      <td>0</td>\n",
       "    </tr>\n",
       "    <tr>\n",
       "      <th>2010-01-02 02:00:00</th>\n",
       "      <td>159.0</td>\n",
       "      <td>-11</td>\n",
       "      <td>-5.0</td>\n",
       "      <td>1021.0</td>\n",
       "      <td>SE</td>\n",
       "      <td>3.57</td>\n",
       "      <td>0</td>\n",
       "      <td>0</td>\n",
       "    </tr>\n",
       "    <tr>\n",
       "      <th>2010-01-02 03:00:00</th>\n",
       "      <td>181.0</td>\n",
       "      <td>-7</td>\n",
       "      <td>-5.0</td>\n",
       "      <td>1022.0</td>\n",
       "      <td>SE</td>\n",
       "      <td>5.36</td>\n",
       "      <td>1</td>\n",
       "      <td>0</td>\n",
       "    </tr>\n",
       "    <tr>\n",
       "      <th>2010-01-02 04:00:00</th>\n",
       "      <td>138.0</td>\n",
       "      <td>-7</td>\n",
       "      <td>-5.0</td>\n",
       "      <td>1022.0</td>\n",
       "      <td>SE</td>\n",
       "      <td>6.25</td>\n",
       "      <td>2</td>\n",
       "      <td>0</td>\n",
       "    </tr>\n",
       "  </tbody>\n",
       "</table>\n",
       "</div>"
      ],
      "text/plain": [
       "                     pollution  dew  temp   press wnd_dir  wnd_spd  snow  rain\n",
       "date                                                                          \n",
       "2010-01-02 00:00:00      129.0  -16  -4.0  1020.0      SE     1.79     0     0\n",
       "2010-01-02 01:00:00      148.0  -15  -4.0  1020.0      SE     2.68     0     0\n",
       "2010-01-02 02:00:00      159.0  -11  -5.0  1021.0      SE     3.57     0     0\n",
       "2010-01-02 03:00:00      181.0   -7  -5.0  1022.0      SE     5.36     1     0\n",
       "2010-01-02 04:00:00      138.0   -7  -5.0  1022.0      SE     6.25     2     0"
      ]
     },
     "execution_count": 3,
     "metadata": {},
     "output_type": "execute_result"
    }
   ],
   "source": [
    "dataset.head()"
   ]
  },
  {
   "cell_type": "code",
   "execution_count": 4,
   "metadata": {
    "scrolled": true
   },
   "outputs": [
    {
     "data": {
      "text/plain": [
       "array([<matplotlib.axes._subplots.AxesSubplot object at 0x000001801E3E8940>,\n",
       "       <matplotlib.axes._subplots.AxesSubplot object at 0x000001801D530E10>,\n",
       "       <matplotlib.axes._subplots.AxesSubplot object at 0x000001801E36B4E0>,\n",
       "       <matplotlib.axes._subplots.AxesSubplot object at 0x000001801E301EF0>,\n",
       "       <matplotlib.axes._subplots.AxesSubplot object at 0x000001801E39AB00>,\n",
       "       <matplotlib.axes._subplots.AxesSubplot object at 0x000001801E39AB38>,\n",
       "       <matplotlib.axes._subplots.AxesSubplot object at 0x000001801DA7E240>],\n",
       "      dtype=object)"
      ]
     },
     "execution_count": 4,
     "metadata": {},
     "output_type": "execute_result"
    },
    {
     "data": {
      "image/png": "[encoded data removed]",
      "text/plain": [
       "<matplotlib.figure.Figure at 0x1801d549cf8>"
      ]
     },
     "metadata": {},
     "output_type": "display_data"
    }
   ],
   "source": [
    "dataset.plot(subplots=True, figsize=(12,10))"
   ]
  },
  {
   "cell_type": "code",
   "execution_count": 8,
   "metadata": {
    "collapsed": true
   },
   "outputs": [],
   "source": [
    "def series_to_supervised(data, n_in=1, n_out=1, dropnan=True):\n",
    "    n_vars = 1 if type(data) is list else data.shape[1]\n",
    "    df = pd.DataFrame(data)\n",
    "    cols, names = list(), list()\n",
    "    # input sequence (t-n, ... t-1)\n",
    "    for i in range(n_in, 0, -1):\n",
    "        cols.append(df.shift(i))\n",
    "        names += [('var%d(t-%d)' % (j+1, i)) for j in range(n_vars)]\n",
    "    # forecast sequence (t, t+1, ... t+n)\n",
    "    for i in range(0, n_out):\n",
    "        cols.append(df.shift(-i))\n",
    "        if i == 0:\n",
    "            names += [('var%d(t)' % (j+1)) for j in range(n_vars)]\n",
    "        else:\n",
    "            names += [('var%d(t+%d)' % (j+1, i)) for j in range(n_vars)]\n",
    "    # put it all together\n",
    "    agg = pd.concat(cols, axis=1)\n",
    "    agg.columns = names\n",
    "    # drop rows with NaN values\n",
    "    if dropnan:\n",
    "        agg.dropna(inplace=True)\n",
    "    return agg"
   ]
  },
  {
   "cell_type": "code",
   "execution_count": 9,
   "metadata": {},
   "outputs": [
    {
     "name": "stdout",
     "output_type": "stream",
     "text": [
      "   var1(t-1)  var2(t-1)  var3(t-1)  var4(t-1)  var5(t-1)  var6(t-1)  \\\n",
      "1   0.129779   0.352941   0.245902   0.527273   0.666667   0.002290   \n",
      "2   0.148893   0.367647   0.245902   0.527273   0.666667   0.003811   \n",
      "3   0.159960   0.426471   0.229508   0.545454   0.666667   0.005332   \n",
      "4   0.182093   0.485294   0.229508   0.563637   0.666667   0.008391   \n",
      "5   0.138833   0.485294   0.229508   0.563637   0.666667   0.009912   \n",
      "\n",
      "   var7(t-1)  var8(t-1)   var1(t)  \n",
      "1   0.000000        0.0  0.148893  \n",
      "2   0.000000        0.0  0.159960  \n",
      "3   0.000000        0.0  0.182093  \n",
      "4   0.037037        0.0  0.138833  \n",
      "5   0.074074        0.0  0.109658  \n"
     ]
    }
   ],
   "source": [
    "from sklearn.preprocessing import MinMaxScaler\n",
    "from sklearn.preprocessing import LabelEncoder\n",
    "from sklearn.metrics import mean_squared_error\n",
    "\n",
    "values = dataset.values\n",
    "# integer encode direction\n",
    "encoder = LabelEncoder()\n",
    "values[:,4] = encoder.fit_transform(values[:,4])\n",
    "# ensure all data is float\n",
    "values = values.astype('float32')\n",
    "# normalize features\n",
    "scaler = MinMaxScaler(feature_range=(0, 1))\n",
    "scaled = scaler.fit_transform(values)\n",
    "# frame as supervised learning\n",
    "reframed = series_to_supervised(scaled, 1, 1)\n",
    "# drop columns we don't want to predict\n",
    "reframed.drop(reframed.columns[[9,10,11,12,13,14,15]], axis=1, inplace=True)\n",
    "print(reframed.head())"
   ]
  },
  {
   "cell_type": "code",
   "execution_count": 10,
   "metadata": {},
   "outputs": [
    {
     "data": {
      "text/html": [
       "<div>\n",
       "<style scoped>\n",
       "    .dataframe tbody tr th:only-of-type {\n",
       "        vertical-align: middle;\n",
       "    }\n",
       "\n",
       "    .dataframe tbody tr th {\n",
       "        vertical-align: top;\n",
       "    }\n",
       "\n",
       "    .dataframe thead th {\n",
       "        text-align: right;\n",
       "    }\n",
       "</style>\n",
       "<table border=\"1\" class=\"dataframe\">\n",
       "  <thead>\n",
       "    <tr style=\"text-align: right;\">\n",
       "      <th></th>\n",
       "      <th>var1(t-1)</th>\n",
       "      <th>var2(t-1)</th>\n",
       "      <th>var3(t-1)</th>\n",
       "      <th>var4(t-1)</th>\n",
       "      <th>var5(t-1)</th>\n",
       "      <th>var6(t-1)</th>\n",
       "      <th>var7(t-1)</th>\n",
       "      <th>var8(t-1)</th>\n",
       "      <th>var1(t)</th>\n",
       "    </tr>\n",
       "  </thead>\n",
       "  <tbody>\n",
       "    <tr>\n",
       "      <th>1</th>\n",
       "      <td>0.129779</td>\n",
       "      <td>0.352941</td>\n",
       "      <td>0.245902</td>\n",
       "      <td>0.527273</td>\n",
       "      <td>0.666667</td>\n",
       "      <td>0.002290</td>\n",
       "      <td>0.000000</td>\n",
       "      <td>0.0</td>\n",
       "      <td>0.148893</td>\n",
       "    </tr>\n",
       "    <tr>\n",
       "      <th>2</th>\n",
       "      <td>0.148893</td>\n",
       "      <td>0.367647</td>\n",
       "      <td>0.245902</td>\n",
       "      <td>0.527273</td>\n",
       "      <td>0.666667</td>\n",
       "      <td>0.003811</td>\n",
       "      <td>0.000000</td>\n",
       "      <td>0.0</td>\n",
       "      <td>0.159960</td>\n",
       "    </tr>\n",
       "    <tr>\n",
       "      <th>3</th>\n",
       "      <td>0.159960</td>\n",
       "      <td>0.426471</td>\n",
       "      <td>0.229508</td>\n",
       "      <td>0.545454</td>\n",
       "      <td>0.666667</td>\n",
       "      <td>0.005332</td>\n",
       "      <td>0.000000</td>\n",
       "      <td>0.0</td>\n",
       "      <td>0.182093</td>\n",
       "    </tr>\n",
       "    <tr>\n",
       "      <th>4</th>\n",
       "      <td>0.182093</td>\n",
       "      <td>0.485294</td>\n",
       "      <td>0.229508</td>\n",
       "      <td>0.563637</td>\n",
       "      <td>0.666667</td>\n",
       "      <td>0.008391</td>\n",
       "      <td>0.037037</td>\n",
       "      <td>0.0</td>\n",
       "      <td>0.138833</td>\n",
       "    </tr>\n",
       "    <tr>\n",
       "      <th>5</th>\n",
       "      <td>0.138833</td>\n",
       "      <td>0.485294</td>\n",
       "      <td>0.229508</td>\n",
       "      <td>0.563637</td>\n",
       "      <td>0.666667</td>\n",
       "      <td>0.009912</td>\n",
       "      <td>0.074074</td>\n",
       "      <td>0.0</td>\n",
       "      <td>0.109658</td>\n",
       "    </tr>\n",
       "  </tbody>\n",
       "</table>\n",
       "</div>"
      ],
      "text/plain": [
       "   var1(t-1)  var2(t-1)  var3(t-1)  var4(t-1)  var5(t-1)  var6(t-1)  \\\n",
       "1   0.129779   0.352941   0.245902   0.527273   0.666667   0.002290   \n",
       "2   0.148893   0.367647   0.245902   0.527273   0.666667   0.003811   \n",
       "3   0.159960   0.426471   0.229508   0.545454   0.666667   0.005332   \n",
       "4   0.182093   0.485294   0.229508   0.563637   0.666667   0.008391   \n",
       "5   0.138833   0.485294   0.229508   0.563637   0.666667   0.009912   \n",
       "\n",
       "   var7(t-1)  var8(t-1)   var1(t)  \n",
       "1   0.000000        0.0  0.148893  \n",
       "2   0.000000        0.0  0.159960  \n",
       "3   0.000000        0.0  0.182093  \n",
       "4   0.037037        0.0  0.138833  \n",
       "5   0.074074        0.0  0.109658  "
      ]
     },
     "execution_count": 10,
     "metadata": {},
     "output_type": "execute_result"
    }
   ],
   "source": [
    "reframed.head()"
   ]
  },
  {
   "cell_type": "code",
   "execution_count": 11,
   "metadata": {},
   "outputs": [
    {
     "data": {
      "text/html": [
       "<div>\n",
       "<style scoped>\n",
       "    .dataframe tbody tr th:only-of-type {\n",
       "        vertical-align: middle;\n",
       "    }\n",
       "\n",
       "    .dataframe tbody tr th {\n",
       "        vertical-align: top;\n",
       "    }\n",
       "\n",
       "    .dataframe thead th {\n",
       "        text-align: right;\n",
       "    }\n",
       "</style>\n",
       "<table border=\"1\" class=\"dataframe\">\n",
       "  <thead>\n",
       "    <tr style=\"text-align: right;\">\n",
       "      <th></th>\n",
       "      <th>var1(t-1)</th>\n",
       "      <th>var2(t-1)</th>\n",
       "      <th>var3(t-1)</th>\n",
       "      <th>var4(t-1)</th>\n",
       "      <th>var5(t-1)</th>\n",
       "      <th>var6(t-1)</th>\n",
       "      <th>var7(t-1)</th>\n",
       "      <th>var8(t-1)</th>\n",
       "      <th>var1(t)</th>\n",
       "    </tr>\n",
       "  </thead>\n",
       "  <tbody>\n",
       "    <tr>\n",
       "      <th>var1(t-1)</th>\n",
       "      <td>1.000000</td>\n",
       "      <td>0.157559</td>\n",
       "      <td>-0.090826</td>\n",
       "      <td>-0.045511</td>\n",
       "      <td>0.187448</td>\n",
       "      <td>-0.234327</td>\n",
       "      <td>0.022225</td>\n",
       "      <td>-0.049048</td>\n",
       "      <td>0.955350</td>\n",
       "    </tr>\n",
       "    <tr>\n",
       "      <th>var2(t-1)</th>\n",
       "      <td>0.157559</td>\n",
       "      <td>1.000000</td>\n",
       "      <td>0.824425</td>\n",
       "      <td>-0.778723</td>\n",
       "      <td>0.232942</td>\n",
       "      <td>-0.296635</td>\n",
       "      <td>-0.034487</td>\n",
       "      <td>0.125051</td>\n",
       "      <td>0.155297</td>\n",
       "    </tr>\n",
       "    <tr>\n",
       "      <th>var3(t-1)</th>\n",
       "      <td>-0.090826</td>\n",
       "      <td>0.824425</td>\n",
       "      <td>1.000000</td>\n",
       "      <td>-0.827199</td>\n",
       "      <td>0.175610</td>\n",
       "      <td>-0.154811</td>\n",
       "      <td>-0.092730</td>\n",
       "      <td>0.049034</td>\n",
       "      <td>-0.090737</td>\n",
       "    </tr>\n",
       "    <tr>\n",
       "      <th>var4(t-1)</th>\n",
       "      <td>-0.045511</td>\n",
       "      <td>-0.778723</td>\n",
       "      <td>-0.827199</td>\n",
       "      <td>1.000000</td>\n",
       "      <td>-0.168965</td>\n",
       "      <td>0.185253</td>\n",
       "      <td>0.069036</td>\n",
       "      <td>-0.079837</td>\n",
       "      <td>-0.043935</td>\n",
       "    </tr>\n",
       "    <tr>\n",
       "      <th>var5(t-1)</th>\n",
       "      <td>0.187448</td>\n",
       "      <td>0.232942</td>\n",
       "      <td>0.175610</td>\n",
       "      <td>-0.168965</td>\n",
       "      <td>1.000000</td>\n",
       "      <td>-0.200006</td>\n",
       "      <td>0.010355</td>\n",
       "      <td>-0.048326</td>\n",
       "      <td>0.207142</td>\n",
       "    </tr>\n",
       "    <tr>\n",
       "      <th>var6(t-1)</th>\n",
       "      <td>-0.234327</td>\n",
       "      <td>-0.296635</td>\n",
       "      <td>-0.154811</td>\n",
       "      <td>0.185253</td>\n",
       "      <td>-0.200006</td>\n",
       "      <td>1.000000</td>\n",
       "      <td>0.021889</td>\n",
       "      <td>-0.010125</td>\n",
       "      <td>-0.234346</td>\n",
       "    </tr>\n",
       "    <tr>\n",
       "      <th>var7(t-1)</th>\n",
       "      <td>0.022225</td>\n",
       "      <td>-0.034487</td>\n",
       "      <td>-0.092730</td>\n",
       "      <td>0.069036</td>\n",
       "      <td>0.010355</td>\n",
       "      <td>0.021889</td>\n",
       "      <td>1.000000</td>\n",
       "      <td>-0.009553</td>\n",
       "      <td>0.023343</td>\n",
       "    </tr>\n",
       "    <tr>\n",
       "      <th>var8(t-1)</th>\n",
       "      <td>-0.049048</td>\n",
       "      <td>0.125051</td>\n",
       "      <td>0.049034</td>\n",
       "      <td>-0.079837</td>\n",
       "      <td>-0.048326</td>\n",
       "      <td>-0.010125</td>\n",
       "      <td>-0.009553</td>\n",
       "      <td>1.000000</td>\n",
       "      <td>-0.054255</td>\n",
       "    </tr>\n",
       "    <tr>\n",
       "      <th>var1(t)</th>\n",
       "      <td>0.955350</td>\n",
       "      <td>0.155297</td>\n",
       "      <td>-0.090737</td>\n",
       "      <td>-0.043935</td>\n",
       "      <td>0.207142</td>\n",
       "      <td>-0.234346</td>\n",
       "      <td>0.023343</td>\n",
       "      <td>-0.054255</td>\n",
       "      <td>1.000000</td>\n",
       "    </tr>\n",
       "  </tbody>\n",
       "</table>\n",
       "</div>"
      ],
      "text/plain": [
       "           var1(t-1)  var2(t-1)  var3(t-1)  var4(t-1)  var5(t-1)  var6(t-1)  \\\n",
       "var1(t-1)   1.000000   0.157559  -0.090826  -0.045511   0.187448  -0.234327   \n",
       "var2(t-1)   0.157559   1.000000   0.824425  -0.778723   0.232942  -0.296635   \n",
       "var3(t-1)  -0.090826   0.824425   1.000000  -0.827199   0.175610  -0.154811   \n",
       "var4(t-1)  -0.045511  -0.778723  -0.827199   1.000000  -0.168965   0.185253   \n",
       "var5(t-1)   0.187448   0.232942   0.175610  -0.168965   1.000000  -0.200006   \n",
       "var6(t-1)  -0.234327  -0.296635  -0.154811   0.185253  -0.200006   1.000000   \n",
       "var7(t-1)   0.022225  -0.034487  -0.092730   0.069036   0.010355   0.021889   \n",
       "var8(t-1)  -0.049048   0.125051   0.049034  -0.079837  -0.048326  -0.010125   \n",
       "var1(t)     0.955350   0.155297  -0.090737  -0.043935   0.207142  -0.234346   \n",
       "\n",
       "           var7(t-1)  var8(t-1)   var1(t)  \n",
       "var1(t-1)   0.022225  -0.049048  0.955350  \n",
       "var2(t-1)  -0.034487   0.125051  0.155297  \n",
       "var3(t-1)  -0.092730   0.049034 -0.090737  \n",
       "var4(t-1)   0.069036  -0.079837 -0.043935  \n",
       "var5(t-1)   0.010355  -0.048326  0.207142  \n",
       "var6(t-1)   0.021889  -0.010125 -0.234346  \n",
       "var7(t-1)   1.000000  -0.009553  0.023343  \n",
       "var8(t-1)  -0.009553   1.000000 -0.054255  \n",
       "var1(t)     0.023343  -0.054255  1.000000  "
      ]
     },
     "execution_count": 11,
     "metadata": {},
     "output_type": "execute_result"
    }
   ],
   "source": [
    "reframed.corr()"
   ]
  },
  {
   "cell_type": "code",
   "execution_count": 12,
   "metadata": {},
   "outputs": [
    {
     "data": {
      "text/plain": [
       "(43799, 9)"
      ]
     },
     "execution_count": 12,
     "metadata": {},
     "output_type": "execute_result"
    }
   ],
   "source": [
    "reframed.shape"
   ]
  },
  {
   "cell_type": "code",
   "execution_count": 13,
   "metadata": {},
   "outputs": [
    {
     "data": {
      "text/plain": [
       "(43800, 8)"
      ]
     },
     "execution_count": 13,
     "metadata": {},
     "output_type": "execute_result"
    }
   ],
   "source": [
    "dataset.shape"
   ]
  },
  {
   "cell_type": "code",
   "execution_count": 21,
   "metadata": {},
   "outputs": [
    {
     "name": "stdout",
     "output_type": "stream",
     "text": [
      "(8760, 1, 8) (8760,) (35039, 1, 8) (35039,)\n"
     ]
    }
   ],
   "source": [
    "values = reframed.values\n",
    "n_train_hours = 365 * 24\n",
    "train = values[:n_train_hours, :]\n",
    "test = values[n_train_hours:, :]\n",
    "# split into input and outputs\n",
    "train_X, train_y = train[:, :-1], train[:, -1]\n",
    "test_X, test_y = test[:, :-1], test[:, -1]\n",
    "# reshape input to be 3D [samples, timesteps, features]\n",
    "train_X = train_X.reshape((train_X.shape[0], 1, train_X.shape[1]))\n",
    "test_X = test_X.reshape((test_X.shape[0], 1, test_X.shape[1]))\n",
    "print(train_X.shape, train_y.shape, test_X.shape, test_y.shape)"
   ]
  },
  {
   "cell_type": "code",
   "execution_count": 15,
   "metadata": {
    "collapsed": true
   },
   "outputs": [],
   "source": [
    "from keras.models import Sequential\n",
    "from keras.layers import Dense\n",
    "from keras.layers import LSTM"
   ]
  },
  {
   "cell_type": "code",
   "execution_count": 16,
   "metadata": {
    "scrolled": true
   },
   "outputs": [
    {
     "name": "stdout",
     "output_type": "stream",
     "text": [
      "Train on 8760 samples, validate on 35039 samples\n",
      "Epoch 1/50\n",
      " - 2s - loss: 0.0558 - val_loss: 0.0665\n",
      "Epoch 2/50\n",
      " - 1s - loss: 0.0404 - val_loss: 0.0727\n",
      "Epoch 3/50\n",
      " - 1s - loss: 0.0269 - val_loss: 0.0656\n",
      "Epoch 4/50\n",
      " - 1s - loss: 0.0205 - val_loss: 0.0552\n",
      "Epoch 5/50\n",
      " - 1s - loss: 0.0178 - val_loss: 0.0493\n",
      "Epoch 6/50\n",
      " - 1s - loss: 0.0165 - val_loss: 0.0366\n",
      "Epoch 7/50\n",
      " - 1s - loss: 0.0156 - val_loss: 0.0281\n",
      "Epoch 8/50\n",
      " - 1s - loss: 0.0151 - val_loss: 0.0216\n",
      "Epoch 9/50\n",
      " - 1s - loss: 0.0150 - val_loss: 0.0196\n",
      "Epoch 10/50\n",
      " - 1s - loss: 0.0149 - val_loss: 0.0177\n",
      "Epoch 11/50\n",
      " - 1s - loss: 0.0147 - val_loss: 0.0165\n",
      "Epoch 12/50\n",
      " - 1s - loss: 0.0148 - val_loss: 0.0160\n",
      "Epoch 13/50\n",
      " - 1s - loss: 0.0147 - val_loss: 0.0155\n",
      "Epoch 14/50\n",
      " - 1s - loss: 0.0146 - val_loss: 0.0151\n",
      "Epoch 15/50\n",
      " - 1s - loss: 0.0146 - val_loss: 0.0149\n",
      "Epoch 16/50\n",
      " - 1s - loss: 0.0147 - val_loss: 0.0150\n",
      "Epoch 17/50\n",
      " - 1s - loss: 0.0146 - val_loss: 0.0149\n",
      "Epoch 18/50\n",
      " - 1s - loss: 0.0146 - val_loss: 0.0143\n",
      "Epoch 19/50\n",
      " - 1s - loss: 0.0145 - val_loss: 0.0144\n",
      "Epoch 20/50\n",
      " - 1s - loss: 0.0146 - val_loss: 0.0145\n",
      "Epoch 21/50\n",
      " - 1s - loss: 0.0147 - val_loss: 0.0142\n",
      "Epoch 22/50\n",
      " - 1s - loss: 0.0145 - val_loss: 0.0142\n",
      "Epoch 23/50\n",
      " - 1s - loss: 0.0145 - val_loss: 0.0140\n",
      "Epoch 24/50\n",
      " - 1s - loss: 0.0145 - val_loss: 0.0139\n",
      "Epoch 25/50\n",
      " - 1s - loss: 0.0144 - val_loss: 0.0140\n",
      "Epoch 26/50\n",
      " - 1s - loss: 0.0145 - val_loss: 0.0138\n",
      "Epoch 27/50\n",
      " - 1s - loss: 0.0145 - val_loss: 0.0142\n",
      "Epoch 28/50\n",
      " - 1s - loss: 0.0147 - val_loss: 0.0139\n",
      "Epoch 29/50\n",
      " - 1s - loss: 0.0145 - val_loss: 0.0139\n",
      "Epoch 30/50\n",
      " - 1s - loss: 0.0146 - val_loss: 0.0138\n",
      "Epoch 31/50\n",
      " - 1s - loss: 0.0144 - val_loss: 0.0137\n",
      "Epoch 32/50\n",
      " - 1s - loss: 0.0144 - val_loss: 0.0137\n",
      "Epoch 33/50\n",
      " - 1s - loss: 0.0144 - val_loss: 0.0136\n",
      "Epoch 34/50\n",
      " - 1s - loss: 0.0144 - val_loss: 0.0136\n",
      "Epoch 35/50\n",
      " - 1s - loss: 0.0144 - val_loss: 0.0137\n",
      "Epoch 36/50\n",
      " - 1s - loss: 0.0144 - val_loss: 0.0136\n",
      "Epoch 37/50\n",
      " - 1s - loss: 0.0144 - val_loss: 0.0135\n",
      "Epoch 38/50\n",
      " - 1s - loss: 0.0144 - val_loss: 0.0136\n",
      "Epoch 39/50\n",
      " - 1s - loss: 0.0144 - val_loss: 0.0135\n",
      "Epoch 40/50\n",
      " - 1s - loss: 0.0144 - val_loss: 0.0135\n",
      "Epoch 41/50\n",
      " - 1s - loss: 0.0144 - val_loss: 0.0135\n",
      "Epoch 42/50\n",
      " - 1s - loss: 0.0143 - val_loss: 0.0135\n",
      "Epoch 43/50\n",
      " - 1s - loss: 0.0145 - val_loss: 0.0135\n",
      "Epoch 44/50\n",
      " - 1s - loss: 0.0146 - val_loss: 0.0136\n",
      "Epoch 45/50\n",
      " - 1s - loss: 0.0143 - val_loss: 0.0135\n",
      "Epoch 46/50\n",
      " - 1s - loss: 0.0143 - val_loss: 0.0134\n",
      "Epoch 47/50\n",
      " - 1s - loss: 0.0143 - val_loss: 0.0134\n",
      "Epoch 48/50\n",
      " - 1s - loss: 0.0143 - val_loss: 0.0134\n",
      "Epoch 49/50\n",
      " - 1s - loss: 0.0143 - val_loss: 0.0134\n",
      "Epoch 50/50\n",
      " - 1s - loss: 0.0143 - val_loss: 0.0134\n"
     ]
    },
    {
     "data": {
      "text/plain": [
       "<matplotlib.legend.Legend at 0x1802465d358>"
      ]
     },
     "execution_count": 16,
     "metadata": {},
     "output_type": "execute_result"
    },
    {
     "data": {
      "image/png": "[encoded data removed]",
      "text/plain": [
       "<matplotlib.figure.Figure at 0x18024b30e80>"
      ]
     },
     "metadata": {},
     "output_type": "display_data"
    }
   ],
   "source": [
    "model = Sequential()\n",
    "model.add(LSTM(50, input_shape=(train_X.shape[1], \n",
    "                                train_X.shape[2])))\n",
    "model.add(Dense(1))\n",
    "model.compile(loss='mae', optimizer='adam')\n",
    "# fit network\n",
    "history = model.fit(train_X, train_y, epochs=50, \n",
    "                    batch_size=72, \n",
    "                    validation_data=(test_X, test_y), \n",
    "                    verbose=2, shuffle=False)\n",
    "# plot history\n",
    "plt.plot(history.history['loss'], label='train')\n",
    "plt.plot(history.history['val_loss'], label='test')\n",
    "plt.legend()"
   ]
  },
  {
   "cell_type": "code",
   "execution_count": 22,
   "metadata": {},
   "outputs": [
    {
     "name": "stdout",
     "output_type": "stream",
     "text": [
      "Test RMSE: 26.488\n"
     ]
    }
   ],
   "source": [
    "yhat = model.predict(test_X)\n",
    "test_X = test_X.reshape((test_X.shape[0], test_X.shape[2]))\n",
    "# invert scaling for forecast\n",
    "inv_yhat = np.concatenate((yhat, test_X[:, 1:]), axis=1)\n",
    "inv_yhat = scaler.inverse_transform(inv_yhat)\n",
    "inv_yhat = inv_yhat[:,0]\n",
    "# invert scaling for actual\n",
    "test_y = test_y.reshape((len(test_y), 1))\n",
    "inv_y = np.concatenate((test_y, test_X[:, 1:]), axis=1)\n",
    "inv_y = scaler.inverse_transform(inv_y)\n",
    "inv_y = inv_y[:,0]\n",
    "# calculate RMSE\n",
    "rmse = np.sqrt(mean_squared_error(inv_y, inv_yhat))\n",
    "print('Test RMSE: %.3f' % rmse)"
   ]
  },
  {
   "cell_type": "code",
   "execution_count": 34,
   "metadata": {},
   "outputs": [
    {
     "name": "stdout",
     "output_type": "stream",
     "text": [
      "(35039,)\n",
      "(35039,)\n"
     ]
    }
   ],
   "source": [
    "print(inv_y.shape)\n",
    "print(inv_yhat.shape)"
   ]
  },
  {
   "cell_type": "code",
   "execution_count": 29,
   "metadata": {},
   "outputs": [
    {
     "data": {
      "text/plain": [
       "array([31., 20., 19., ..., 10.,  8., 12.], dtype=float32)"
      ]
     },
     "execution_count": 29,
     "metadata": {},
     "output_type": "execute_result"
    }
   ],
   "source": [
    "inv_y"
   ]
  },
  {
   "cell_type": "code",
   "execution_count": 24,
   "metadata": {},
   "outputs": [
    {
     "data": {
      "text/plain": [
       "array([34.366245 , 31.036861 , 20.450941 , ...,  7.8039784,  7.775771 ,\n",
       "        6.0277834], dtype=float32)"
      ]
     },
     "execution_count": 24,
     "metadata": {},
     "output_type": "execute_result"
    }
   ],
   "source": [
    "inv_yhat"
   ]
  },
  {
   "cell_type": "code",
   "execution_count": 25,
   "metadata": {},
   "outputs": [
    {
     "data": {
      "text/plain": [
       "array([[0.03118712],\n",
       "       [0.02012072],\n",
       "       [0.01911469],\n",
       "       ...,\n",
       "       [0.01006036],\n",
       "       [0.00804829],\n",
       "       [0.01207243]], dtype=float32)"
      ]
     },
     "execution_count": 25,
     "metadata": {},
     "output_type": "execute_result"
    }
   ],
   "source": [
    "test_y"
   ]
  },
  {
   "cell_type": "code",
   "execution_count": 33,
   "metadata": {},
   "outputs": [
    {
     "data": {
      "text/plain": [
       "<matplotlib.legend.Legend at 0x18026f279e8>"
      ]
     },
     "execution_count": 33,
     "metadata": {},
     "output_type": "execute_result"
    },
    {
     "data": {
      "image/png": "[encoded data removed]",
      "text/plain": [
       "<matplotlib.figure.Figure at 0x1802495ba20>"
      ]
     },
     "metadata": {},
     "output_type": "display_data"
    }
   ],
   "source": [
    "plt.plot(inv_y[400:440], label='test_y')\n",
    "plt.plot(inv_yhat[400:440], label='predicted_y')\n",
    "plt.legend()"
   ]
  },
  {
   "cell_type": "code",
   "execution_count": null,
   "metadata": {
    "collapsed": true
   },
   "outputs": [],
   "source": []
  }
 ],
 "metadata": {
  "kernelspec": {
   "display_name": "Python 2",
   "language": "python",
   "name": "python2"
  },
  "language_info": {
   "codemirror_mode": {
    "name": "ipython",
    "version": 2
   },
   "file_extension": ".py",
   "mimetype": "text/x-python",
   "name": "python",
   "nbconvert_exporter": "python",
   "pygments_lexer": "ipython2",
   "version": "2.7.14"
  }
 },
 "nbformat": 4,
 "nbformat_minor": 2
}
